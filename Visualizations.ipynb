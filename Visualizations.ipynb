{
 "cells": [
  {
   "cell_type": "code",
   "execution_count": 1,
   "metadata": {},
   "outputs": [
    {
     "name": "stderr",
     "output_type": "stream",
     "text": [
      "Using TensorFlow backend.\n"
     ]
    }
   ],
   "source": [
    "\n",
    "from IPython.display import display, Image, SVG\n",
    "from keras.models import load_model\n",
    "\n",
    "def loadModel(modelPath):\n",
    "    \"\"\"\n",
    "    Loads the model `modelPath`.\n",
    "    \"\"\"\n",
    "    model = load_model(modelPath)\n",
    "    return model\n"
   ]
  },
  {
   "cell_type": "code",
   "execution_count": 2,
   "metadata": {
    "collapsed": true
   },
   "outputs": [],
   "source": [
    "def getLayerConfig(layer):\n",
    "    \"\"\"\n",
    "    Extract configuration from `layer`.\n",
    "    \"\"\"\n",
    "    layerType = layer.__class__.__name__\n",
    "    output = { 'type': layerType }\n",
    "    config = layer.get_config()\n",
    "    if layerType == 'Lambda':\n",
    "        _, x, y, d = config['batch_input_shape']\n",
    "        output['input'] = (x, y, d)\n",
    "    if layerType == 'Cropping2D':\n",
    "        output['cropping'] = config['cropping']\n",
    "    if layerType == 'Convolution2D':\n",
    "        output['activation'] = config['activation']\n",
    "        output['strides'] = config['subsample']\n",
    "        output['filters'] = config['nb_filter']\n",
    "        output['kernel'] = ( config['nb_col'], config['nb_row'] )\n",
    "    if layerType == 'Dense':\n",
    "        output['activation'] = config['activation']\n",
    "        output['output'] = config['output_dim']\n",
    "        output['input'] = config['input_dim']\n",
    "    return output\n",
    "\n",
    "from functools import reduce\n",
    "def compressLayers(layers):\n",
    "    \"\"\"\n",
    "    Compress the common layers into a single structure for visualization.\n",
    "    \"\"\"\n",
    "    def reductor(acc, layer):\n",
    "        if len(acc) == 0:\n",
    "            acc.append(layer)\n",
    "            return acc\n",
    "        \n",
    "        last = acc[-1]\n",
    "        if last['type'] == layer['type']:\n",
    "            try:\n",
    "                last['items'].append(layer)\n",
    "            except KeyError:\n",
    "                acc[-1] = { 'type': layer['type'], 'items': [last, layer]}\n",
    "        else:\n",
    "            acc.append(layer)\n",
    "        return acc\n",
    "    \n",
    "    return reduce(reductor, layers, [])"
   ]
  },
  {
   "cell_type": "code",
   "execution_count": 3,
   "metadata": {
    "collapsed": true
   },
   "outputs": [],
   "source": [
    "import graphviz as gv\n",
    "import functools\n",
    "import json"
   ]
  },
  {
   "cell_type": "code",
   "execution_count": 4,
   "metadata": {
    "collapsed": true
   },
   "outputs": [],
   "source": [
    "def createNode(nodeName, layer, g):\n",
    "    \"\"\"\n",
    "    Creates a node with the information from `layer` in the `g`.\n",
    "    \"\"\"\n",
    "    type = layer['type']\n",
    "    label = type + '\\n'\n",
    "    for key, value in layer.items():\n",
    "        if (key != 'type'):\n",
    "            label += '{}: {}\\n'.format(key, value)\n",
    "    g.node(nodeName, label=label)\n",
    "\n",
    "def visualizeLayers(layers, outputPath):\n",
    "    \"\"\"\n",
    "    Visualize `layers` and store the image at `outputPath`.\n",
    "    \"\"\"\n",
    "    g = gv.Digraph(format='png')\n",
    "    for index, layer in enumerate(layers):\n",
    "        nodeName = str(index)\n",
    "        try:\n",
    "            items = layer['items']\n",
    "            g.node(nodeName, label=layer['type'])\n",
    "#             subG = gv.Digraph()\n",
    "#             for i, subLayer in enumerate(layers):\n",
    "#                 subNodeName = nodeName + str(index)\n",
    "#                 createNode(subNodeName, layer, subG)\n",
    "#                 if i != 0:\n",
    "#                     subG.edge(nodeName + str(i - 1), subNodeName)\n",
    "                    \n",
    "#             g.subgraph(subG)\n",
    "        except KeyError:\n",
    "            createNode(nodeName, layer, g)\n",
    "        if index != 0:\n",
    "            g.edge(str(index - 1), nodeName)\n",
    "            \n",
    "    styles = {\n",
    "        'graph': {\n",
    "#             'rankdir': 'LR',\n",
    "        },\n",
    "        'nodes': {\n",
    "            'fontname': 'Helvetica',\n",
    "            'shape': 'rectangle'\n",
    "        },\n",
    "        'edges': {\n",
    "            'arrowhead': 'open'\n",
    "        }\n",
    "    }\n",
    "    g.graph_attr.update(\n",
    "        ('graph' in styles and styles['graph']) or {}\n",
    "    )\n",
    "    g.node_attr.update(\n",
    "        ('nodes' in styles and styles['nodes']) or {}\n",
    "    )\n",
    "    g.edge_attr.update(\n",
    "        ('edges' in styles and styles['edges']) or {}\n",
    "    )\n",
    "    \n",
    "    g.render(outputPath)\n",
    "    figure = Image(outputPath + '.png')\n",
    "    display(figure)"
   ]
  },
  {
   "cell_type": "code",
   "execution_count": 5,
   "metadata": {
    "collapsed": true
   },
   "outputs": [],
   "source": [
    "def visualizeModel(modelPath, imagePath):\n",
    "    \"\"\"\n",
    "    Visualize the model found at `modelPath` to a SVG at `imagePath`\n",
    "    \"\"\"\n",
    "    model = loadModel(modelPath)\n",
    "    layerData = list(map(getLayerConfig, model.layers))\n",
    "    compressedLayers = compressLayers(layerData)\n",
    "    visualizeLayers(compressedLayers, imagePath)\n"
   ]
  },
  {
   "cell_type": "code",
   "execution_count": 6,
   "metadata": {},
   "outputs": [
    {
     "data": {
      "image/png": "[encoded data removed]",
      "text/plain": [
       "<IPython.core.display.Image object>"
      ]
     },
     "metadata": {},
     "output_type": "display_data"
    }
   ],
   "source": [
    "visualizeModel('./models/nVidea_data.h5', 'images/nVidea_data')"
   ]
  },
  {
   "cell_type": "code",
   "execution_count": null,
   "metadata": {
    "collapsed": true
   },
   "outputs": [],
   "source": []
  }
 ],
 "metadata": {
  "kernelspec": {
   "display_name": "Python 3",
   "language": "python",
   "name": "python3"
  },
  "language_info": {
   "codemirror_mode": {
    "name": "ipython",
    "version": 3
   },
   "file_extension": ".py",
   "mimetype": "text/x-python",
   "name": "python",
   "nbconvert_exporter": "python",
   "pygments_lexer": "ipython3",
   "version": "3.5.2"
  },
  "widgets": {
   "state": {},
   "version": "1.1.2"
  }
 },
 "nbformat": 4,
 "nbformat_minor": 2
}
